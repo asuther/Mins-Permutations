{
 "cells": [
  {
   "cell_type": "markdown",
   "metadata": {},
   "source": [
    "# Min's Permutations\n",
    "\n",
    "**Methods:**\n",
    ">1. Load string of aa\n",
    ">2. Create a method that gets the list of neighbors\n",
    ">3. Create a method that counts the number of neighbors similar to a reference list\n",
    ">4. Create a method that does permutations on a random index with reweighting of the chosen index based on if it lead to a reduction in # of neighbors in the previous times\n",
    ">5. Find the best random permutation`"
   ]
  },
  {
   "cell_type": "code",
   "execution_count": 2,
   "metadata": {
    "collapsed": true
   },
   "outputs": [],
   "source": [
    "import numpy as np\n",
    "import pandas as pd\n",
    "\n",
    "%matplotlib inline\n",
    "import matplotlib.pyplot as plt\n",
    "import seaborn as sns\n",
    "sns.set_context(context='notebook', font_scale=1.9)"
   ]
  },
  {
   "cell_type": "markdown",
   "metadata": {},
   "source": [
    "## 1. Load string of aa"
   ]
  },
  {
   "cell_type": "code",
   "execution_count": 149,
   "metadata": {
    "collapsed": false
   },
   "outputs": [],
   "source": [
    "starting_string_of_aa = 'kpcc'\n",
    "comparison_string_of_aa = 'ckcp'"
   ]
  },
  {
   "cell_type": "markdown",
   "metadata": {},
   "source": [
    "## 2. Create a method that gets the list of neighbors"
   ]
  },
  {
   "cell_type": "code",
   "execution_count": 150,
   "metadata": {
    "collapsed": true
   },
   "outputs": [],
   "source": [
    "def convert_string_of_aa_to_list(string_of_aa):\n",
    "    return map(lambda x: x, string_of_aa)"
   ]
  },
  {
   "cell_type": "markdown",
   "metadata": {},
   "source": [
    "get_neighbors() will return a DataFrame that contains all the neighbors found in the dataset\n",
    "\n",
    "For instance, in 'kpcc', the method returns the following pairs:\n",
    "\n",
    "* end, k\n",
    "* k, p\n",
    "* c, p\n",
    "* c, c\n",
    "* c, end\n",
    "\n",
    "where \"end\" means the end of the amino acid chain"
   ]
  },
  {
   "cell_type": "code",
   "execution_count": 151,
   "metadata": {
    "collapsed": true
   },
   "outputs": [],
   "source": [
    "def get_neighbors(aa_list):\n",
    "    \n",
    "    aa_list_size = len(aa_list)\n",
    "    \n",
    "    neighbors_list = []\n",
    "    \n",
    "    for aa_index, aa in enumerate(aa_list):\n",
    "        \n",
    "        if aa_index == 0:\n",
    "            \n",
    "            neighbors_list.append([aa, 'end'])\n",
    "            \n",
    "        elif (aa_index + 1 ) == aa_list_size:\n",
    "            \n",
    "            neighbors_list.append([aa, 'end'])\n",
    "        \n",
    "        else:\n",
    "            \n",
    "            neighbors_list.append([aa, aa_list[aa_index - 1]])\n",
    "            neighbors_list.append([aa, aa_list[aa_index + 1]])\n",
    "            \n",
    "    #Removing duplicates\n",
    "    neighbors_df_with_repeats = pd.DataFrame(neighbors_list)\n",
    "    neighbors_df = neighbors_df_with_repeats.apply(lambda x: sorted(x), axis=1).drop_duplicates()\n",
    "    \n",
    "    return neighbors_df\n"
   ]
  },
  {
   "cell_type": "code",
   "execution_count": 85,
   "metadata": {
    "collapsed": false
   },
   "outputs": [],
   "source": [
    "def remove_repeats(df):\n",
    "    return df.apply(lambda x: x.sort_values(), axis=1)"
   ]
  },
  {
   "cell_type": "markdown",
   "metadata": {},
   "source": [
    "This shows the actual DataFrame output of the get_neighbors method:"
   ]
  },
  {
   "cell_type": "code",
   "execution_count": 154,
   "metadata": {
    "collapsed": false
   },
   "outputs": [
    {
     "data": {
      "text/html": [
       "<div>\n",
       "<table border=\"1\" class=\"dataframe\">\n",
       "  <thead>\n",
       "    <tr style=\"text-align: right;\">\n",
       "      <th></th>\n",
       "      <th>0</th>\n",
       "      <th>1</th>\n",
       "    </tr>\n",
       "  </thead>\n",
       "  <tbody>\n",
       "    <tr>\n",
       "      <th>0</th>\n",
       "      <td>end</td>\n",
       "      <td>k</td>\n",
       "    </tr>\n",
       "    <tr>\n",
       "      <th>1</th>\n",
       "      <td>k</td>\n",
       "      <td>p</td>\n",
       "    </tr>\n",
       "    <tr>\n",
       "      <th>2</th>\n",
       "      <td>c</td>\n",
       "      <td>p</td>\n",
       "    </tr>\n",
       "    <tr>\n",
       "      <th>4</th>\n",
       "      <td>c</td>\n",
       "      <td>c</td>\n",
       "    </tr>\n",
       "    <tr>\n",
       "      <th>5</th>\n",
       "      <td>c</td>\n",
       "      <td>end</td>\n",
       "    </tr>\n",
       "  </tbody>\n",
       "</table>\n",
       "</div>"
      ],
      "text/plain": [
       "     0    1\n",
       "0  end    k\n",
       "1    k    p\n",
       "2    c    p\n",
       "4    c    c\n",
       "5    c  end"
      ]
     },
     "execution_count": 154,
     "metadata": {},
     "output_type": "execute_result"
    }
   ],
   "source": [
    "starting_aa_list = convert_string_of_aa_to_list(starting_string_of_aa)\n",
    "starting_neighbors_df = get_neighbors(starting_aa_list)\n",
    "starting_neighbors_df"
   ]
  },
  {
   "cell_type": "markdown",
   "metadata": {},
   "source": [
    "## 3. Create a method that counts the number of neighbors similar to a reference list"
   ]
  },
  {
   "cell_type": "markdown",
   "metadata": {},
   "source": [
    "get_count_of_same_neighbors will get the number of common neighbors two different neighbors DataFrames. Right now, it only counts the set of common \"unique\" neighbor types. So if the amino acid was 'kckckckck', there would only be 2 unique neighbor types (k,c) and (k, end)"
   ]
  },
  {
   "cell_type": "code",
   "execution_count": 90,
   "metadata": {
    "collapsed": true
   },
   "outputs": [],
   "source": [
    "def get_count_of_same_neighbors(new_neighbors, reference_neighbors):\n",
    "    return pd.merge(new_neighbors, reference_neighbors).shape[0]"
   ]
  },
  {
   "cell_type": "markdown",
   "metadata": {},
   "source": [
    "Testing this out with the short amino acid lists:"
   ]
  },
  {
   "cell_type": "code",
   "execution_count": 159,
   "metadata": {
    "collapsed": false
   },
   "outputs": [
    {
     "name": "stdout",
     "output_type": "stream",
     "text": [
      "Comparing kpcc and ckcp\n",
      "Found 2 common neighbors\n"
     ]
    }
   ],
   "source": [
    "comparison_aa_list = convert_string_of_aa_to_list(comparison_string_of_aa)\n",
    "\n",
    "comparison_neighbors_df = get_neighbors(comparison_aa_list)\n",
    "\n",
    "print 'Comparing %s and %s' % (starting_string_of_aa, comparison_string_of_aa)\n",
    "\n",
    "print 'Found %i common neighbors' % get_count_of_same_neighbors(starting_neighbors_df, comparison_neighbors_df)"
   ]
  },
  {
   "cell_type": "markdown",
   "metadata": {},
   "source": [
    "compare_two_strings_of_aa() simplifies this process. Just input two amino acid strings and it spits out the number of common neighbors:"
   ]
  },
  {
   "cell_type": "code",
   "execution_count": 92,
   "metadata": {
    "collapsed": true
   },
   "outputs": [],
   "source": [
    "def compare_two_strings_of_aa(new_string, reference_string):\n",
    "    new_aa_list = convert_string_of_aa_to_list(new_string)\n",
    "    new_neighbors_df = get_neighbors(new_aa_list)\n",
    "    \n",
    "    reference_aa_list = convert_string_of_aa_to_list(reference_string)\n",
    "    reference_neighbors_df = get_neighbors(reference_aa_list)\n",
    "    \n",
    "    return get_count_of_same_neighbors(new_neighbors_df, reference_neighbors_df)"
   ]
  },
  {
   "cell_type": "markdown",
   "metadata": {},
   "source": [
    "Repeating this with a much longer strings:"
   ]
  },
  {
   "cell_type": "code",
   "execution_count": 160,
   "metadata": {
    "collapsed": false
   },
   "outputs": [
    {
     "name": "stdout",
     "output_type": "stream",
     "text": [
      "Found 8 common neighbors\n"
     ]
    }
   ],
   "source": [
    "starting_string_of_aa = 'kpccdkhfkk'\n",
    "comparison_string_of_aa = 'pcdkhfkckk'\n",
    "\n",
    "print 'Found %i common neighbors' % compare_two_strings_of_aa(starting_string_of_aa, comparison_string_of_aa)"
   ]
  },
  {
   "cell_type": "markdown",
   "metadata": {},
   "source": [
    "## 4. Create a method that does permutations on a random index with reweighting of the chosen index based on if it lead to a reduction in # of neighbors in the previous times"
   ]
  },
  {
   "cell_type": "markdown",
   "metadata": {},
   "source": [
    "weighted_choice is an annealing-like method. It will select a random index in the amino acid string, based on that index's weights. For example, if we had a two amino acid chain, and we set the weights of each to 1, then this would select one of those indexes with 50% probability. However, if we set the weights as 1 and 0.5, then there would be a 67% chance to select the first one, and a 33% chance to select the second. "
   ]
  },
  {
   "cell_type": "code",
   "execution_count": 101,
   "metadata": {
    "collapsed": true
   },
   "outputs": [],
   "source": [
    "from random import random\n",
    "from bisect import bisect\n",
    "\n",
    "def weighted_choice(choices):\n",
    "    values, weights = zip(*choices)\n",
    "    total = 0\n",
    "    cum_weights = []\n",
    "    for w in weights:\n",
    "        total += w\n",
    "        cum_weights.append(total)\n",
    "    x = random() * total\n",
    "    i = bisect(cum_weights, x)\n",
    "    return values[i]"
   ]
  },
  {
   "cell_type": "markdown",
   "metadata": {},
   "source": [
    "This is the meat of the program. It runs through 100,000 iterations of trying to find the amino acid order that minimizes the number of common neighbors. In each iteration, it will switch two random indexes. If the number of neighbors is lower, then it will set that as the \"best\" configuration. If the number of neighbors is the same or higher, it will reset itself to the previous case and try again. Throughout all of this, the probability of switching each position in the array is changed by reducing its probability of getting selected if it isn't lowering the neighbor count. To be honest, I don't think this actually helped but it's sexy and I want to impress you. \n",
    "\n",
    "In any case the best ordering was \"dhckkkkcfp\""
   ]
  },
  {
   "cell_type": "code",
   "execution_count": 148,
   "metadata": {
    "collapsed": false,
    "scrolled": false
   },
   "outputs": [
    {
     "name": "stdout",
     "output_type": "stream",
     "text": [
      "['k', 'p', 'c', 'c', 'd', 'k', 'h', 'f', 'k', 'k']\n",
      "New best neighbor count 8\n",
      "New best order: kccpdkhfkk\n",
      "New best neighbor count 7\n",
      "New best order: kccpdkkfkh\n",
      "New best neighbor count 5\n",
      "New best order: fccpdkkkkh\n",
      "New best neighbor count 4\n",
      "New best order: fkkckkdhcp\n",
      "New best neighbor count 3\n",
      "New best order: fchpkdkkkc\n",
      "New best neighbor count 1\n",
      "New best order: dhckkkkcfp\n"
     ]
    },
    {
     "ename": "IndexError",
     "evalue": "tuple index out of range",
     "output_type": "error",
     "traceback": [
      "\u001b[1;31m---------------------------------------------------------------------------\u001b[0m",
      "\u001b[1;31mIndexError\u001b[0m                                Traceback (most recent call last)",
      "\u001b[1;32m<ipython-input-148-4cefac765c37>\u001b[0m in \u001b[0;36m<module>\u001b[1;34m()\u001b[0m\n\u001b[0;32m     18\u001b[0m \u001b[1;32mprint\u001b[0m \u001b[0mcurrent_list_of_aa\u001b[0m\u001b[1;33m\u001b[0m\u001b[0m\n\u001b[0;32m     19\u001b[0m \u001b[1;32mfor\u001b[0m \u001b[0mi\u001b[0m \u001b[1;32min\u001b[0m \u001b[0mnp\u001b[0m\u001b[1;33m.\u001b[0m\u001b[0marange\u001b[0m\u001b[1;33m(\u001b[0m\u001b[1;36m100000\u001b[0m\u001b[1;33m)\u001b[0m\u001b[1;33m:\u001b[0m\u001b[1;33m\u001b[0m\u001b[0m\n\u001b[1;32m---> 20\u001b[1;33m     \u001b[0mstart_random_index\u001b[0m \u001b[1;33m=\u001b[0m \u001b[0mweighted_choice\u001b[0m\u001b[1;33m(\u001b[0m\u001b[0mprobability_of_permutating\u001b[0m\u001b[1;33m)\u001b[0m\u001b[1;33m\u001b[0m\u001b[0m\n\u001b[0m\u001b[0;32m     21\u001b[0m     \u001b[0mend_random_index\u001b[0m \u001b[1;33m=\u001b[0m \u001b[0mnp\u001b[0m\u001b[1;33m.\u001b[0m\u001b[0mrandom\u001b[0m\u001b[1;33m.\u001b[0m\u001b[0mrandint\u001b[0m\u001b[1;33m(\u001b[0m\u001b[0maa_length\u001b[0m\u001b[1;33m)\u001b[0m\u001b[1;33m\u001b[0m\u001b[0m\n\u001b[0;32m     22\u001b[0m \u001b[1;33m\u001b[0m\u001b[0m\n",
      "\u001b[1;32m<ipython-input-101-d2d3c51a0478>\u001b[0m in \u001b[0;36mweighted_choice\u001b[1;34m(choices)\u001b[0m\n\u001b[0;32m     11\u001b[0m     \u001b[0mx\u001b[0m \u001b[1;33m=\u001b[0m \u001b[0mrandom\u001b[0m\u001b[1;33m(\u001b[0m\u001b[1;33m)\u001b[0m \u001b[1;33m*\u001b[0m \u001b[0mtotal\u001b[0m\u001b[1;33m\u001b[0m\u001b[0m\n\u001b[0;32m     12\u001b[0m     \u001b[0mi\u001b[0m \u001b[1;33m=\u001b[0m \u001b[0mbisect\u001b[0m\u001b[1;33m(\u001b[0m\u001b[0mcum_weights\u001b[0m\u001b[1;33m,\u001b[0m \u001b[0mx\u001b[0m\u001b[1;33m)\u001b[0m\u001b[1;33m\u001b[0m\u001b[0m\n\u001b[1;32m---> 13\u001b[1;33m     \u001b[1;32mreturn\u001b[0m \u001b[0mvalues\u001b[0m\u001b[1;33m[\u001b[0m\u001b[0mi\u001b[0m\u001b[1;33m]\u001b[0m\u001b[1;33m\u001b[0m\u001b[0m\n\u001b[0m",
      "\u001b[1;31mIndexError\u001b[0m: tuple index out of range"
     ]
    }
   ],
   "source": [
    "starting_string_of_aa = 'kpccdkhfkk'\n",
    "current_string_of_aa = starting_string_of_aa\n",
    "previous_string_of_aa = starting_string_of_aa\n",
    "best_string_of_aa = starting_string_of_aa\n",
    "\n",
    "current_neighbor_count = 1000\n",
    "best_neighbor_count = 1000\n",
    "\n",
    "\n",
    "start_list_of_aa = convert_string_of_aa_to_list(starting_string_of_aa)\n",
    "current_list_of_aa = convert_string_of_aa_to_list(current_string_of_aa)\n",
    "\n",
    "aa_length = len(starting_string_of_aa)\n",
    "probability_of_permutating = [1.0] * len(starting_string_of_aa)\n",
    "\n",
    "probability_of_permutating = map(lambda x: list(x), zip(np.arange(0,aa_length), probability_of_permutating))\n",
    "\n",
    "print current_list_of_aa\n",
    "for i in np.arange(100000): \n",
    "    start_random_index = weighted_choice(probability_of_permutating)\n",
    "    end_random_index = np.random.randint(aa_length)\n",
    "    \n",
    "    #print start_random_index, ',', end_random_index\n",
    "    current_list_of_aa[start_random_index], current_list_of_aa[end_random_index] = \\\n",
    "    current_list_of_aa[end_random_index], current_list_of_aa[start_random_index]\n",
    "    \n",
    "    current_string_of_aa = ''.join(current_list_of_aa)\n",
    "    \n",
    "    #print 'Previous: %s' % previous_string_of_aa\n",
    "    #print 'Current: %s' % current_string_of_aa\n",
    "    \n",
    "    current_neighbor_count = compare_two_strings_of_aa(current_string_of_aa, starting_string_of_aa)\n",
    "    \n",
    "    if current_neighbor_count < best_neighbor_count:\n",
    "        best_neighbor_count = current_neighbor_count\n",
    "        best_string_of_aa = current_string_of_aa\n",
    "        \n",
    "        previous_string_of_aa = current_string_of_aa\n",
    "        print 'New best neighbor count %i' % best_neighbor_count\n",
    "        print 'New best order: %s' % best_string_of_aa\n",
    "        probability_of_permutating[start_random_index][1]+=0.01\n",
    "\n",
    "    else:\n",
    "        probability_of_permutating[start_random_index][1]-=0.01\n",
    "        if probability_of_permutating[start_random_index][1] < 0:\n",
    "            probability_of_permutating[start_random_index][1] = 0\n",
    "        \n",
    "        if np.random.rand() < 0.9:\n",
    "            current_string_of_aa = previous_string_of_aa\n",
    "        else:\n",
    "            previous_string_of_aa = current_string_of_aa\n",
    "            \n",
    "        #print 'No improvement'\n",
    "        \n",
    "    #print 'Next Up: %s ' % current_string_of_aa\n",
    "    #print"
   ]
  },
  {
   "cell_type": "markdown",
   "metadata": {},
   "source": [
    "## 5. Find the best random permutation"
   ]
  },
  {
   "cell_type": "code",
   "execution_count": null,
   "metadata": {
    "collapsed": true
   },
   "outputs": [],
   "source": []
  }
 ],
 "metadata": {
  "kernelspec": {
   "display_name": "Python 2",
   "language": "python",
   "name": "python2"
  },
  "language_info": {
   "codemirror_mode": {
    "name": "ipython",
    "version": 2
   },
   "file_extension": ".py",
   "mimetype": "text/x-python",
   "name": "python",
   "nbconvert_exporter": "python",
   "pygments_lexer": "ipython2",
   "version": "2.7.10"
  }
 },
 "nbformat": 4,
 "nbformat_minor": 0
}
